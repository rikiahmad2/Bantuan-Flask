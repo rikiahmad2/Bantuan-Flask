{
  "nbformat": 4,
  "nbformat_minor": 0,
  "metadata": {
    "colab": {
      "name": "program_bantuan.ipynb",
      "provenance": [],
      "collapsed_sections": []
    },
    "kernelspec": {
      "name": "python3",
      "display_name": "Python 3"
    },
    "language_info": {
      "name": "python"
    }
  },
  "cells": [
    {
      "cell_type": "code",
      "metadata": {
        "id": "2FRqtS0TT25E"
      },
      "source": [
        "import pandas as pd\n",
        "import numpy as np\n",
        "import cv2\n",
        "\n",
        "from sklearn import preprocessing\n",
        "from sklearn.model_selection import train_test_split\n",
        "from sklearn.tree import DecisionTreeClassifier\n",
        "from sklearn import tree\n",
        "from sklearn import metrics\n",
        "from sklearn.model_selection import cross_val_score\n",
        "from sklearn.metrics import confusion_matrix, plot_confusion_matrix, classification_report\n",
        "\n",
        "from sklearn import svm\n",
        "\n",
        "import matplotlib.pyplot as plt\n",
        "import seaborn as sns\n",
        "import cv2\n",
        "from subprocess import check_call\n",
        "from google.colab.patches import cv2_imshow"
      ],
      "execution_count": 1,
      "outputs": []
    },
    {
      "cell_type": "code",
      "source": [
        ""
      ],
      "metadata": {
        "id": "zO2VvEkUfvaL"
      },
      "execution_count": 1,
      "outputs": []
    },
    {
      "cell_type": "code",
      "metadata": {
        "colab": {
          "base_uri": "https://localhost:8080/",
          "height": 191
        },
        "id": "5HvHhx-3UDgF",
        "outputId": "31958611-57ec-44b1-b872-6f2373c72067"
      },
      "source": [
        "df = pd.read_excel('datasetbantuan.xlsx')\n",
        "df = df.loc[1:,:]\n",
        "df.head(1)"
      ],
      "execution_count": 2,
      "outputs": [
        {
          "output_type": "execute_result",
          "data": {
            "text/plain": [
              "   NO       NAMA Luas lantai  Lantai  Dinding  Tdk mem. Tdk ada Air Minum  \\\n",
              "1  1.0  MARYANTO            1       1        0        1       0         1   \n",
              "\n",
              "  Kayu bakar/ daging 1x  ... Tdk mem..1 Lansia Disabilitas Usia Dini  \\\n",
              "1           0         1  ...          1    0.0         0.0       0.0   \n",
              "\n",
              "  Ibu Hamil Anak SD  Anak SMP  Anak SMA  Total  Kategori  \n",
              "1       0.0     1.0       0.0       0.0   12.0       BLT  \n",
              "\n",
              "[1 rows x 25 columns]"
            ],
            "text/html": [
              "\n",
              "  <div id=\"df-5c3ec0ce-ef5d-4103-b574-a70f13f3cdf7\">\n",
              "    <div class=\"colab-df-container\">\n",
              "      <div>\n",
              "<style scoped>\n",
              "    .dataframe tbody tr th:only-of-type {\n",
              "        vertical-align: middle;\n",
              "    }\n",
              "\n",
              "    .dataframe tbody tr th {\n",
              "        vertical-align: top;\n",
              "    }\n",
              "\n",
              "    .dataframe thead th {\n",
              "        text-align: right;\n",
              "    }\n",
              "</style>\n",
              "<table border=\"1\" class=\"dataframe\">\n",
              "  <thead>\n",
              "    <tr style=\"text-align: right;\">\n",
              "      <th></th>\n",
              "      <th>NO</th>\n",
              "      <th>NAMA</th>\n",
              "      <th>Luas lantai</th>\n",
              "      <th>Lantai</th>\n",
              "      <th>Dinding</th>\n",
              "      <th>Tdk mem.</th>\n",
              "      <th>Tdk ada</th>\n",
              "      <th>Air Minum</th>\n",
              "      <th>Kayu bakar/</th>\n",
              "      <th>daging 1x</th>\n",
              "      <th>...</th>\n",
              "      <th>Tdk mem..1</th>\n",
              "      <th>Lansia</th>\n",
              "      <th>Disabilitas</th>\n",
              "      <th>Usia Dini</th>\n",
              "      <th>Ibu Hamil</th>\n",
              "      <th>Anak SD</th>\n",
              "      <th>Anak SMP</th>\n",
              "      <th>Anak SMA</th>\n",
              "      <th>Total</th>\n",
              "      <th>Kategori</th>\n",
              "    </tr>\n",
              "  </thead>\n",
              "  <tbody>\n",
              "    <tr>\n",
              "      <th>1</th>\n",
              "      <td>1.0</td>\n",
              "      <td>MARYANTO</td>\n",
              "      <td>1</td>\n",
              "      <td>1</td>\n",
              "      <td>0</td>\n",
              "      <td>1</td>\n",
              "      <td>0</td>\n",
              "      <td>1</td>\n",
              "      <td>0</td>\n",
              "      <td>1</td>\n",
              "      <td>...</td>\n",
              "      <td>1</td>\n",
              "      <td>0.0</td>\n",
              "      <td>0.0</td>\n",
              "      <td>0.0</td>\n",
              "      <td>0.0</td>\n",
              "      <td>1.0</td>\n",
              "      <td>0.0</td>\n",
              "      <td>0.0</td>\n",
              "      <td>12.0</td>\n",
              "      <td>BLT</td>\n",
              "    </tr>\n",
              "  </tbody>\n",
              "</table>\n",
              "<p>1 rows × 25 columns</p>\n",
              "</div>\n",
              "      <button class=\"colab-df-convert\" onclick=\"convertToInteractive('df-5c3ec0ce-ef5d-4103-b574-a70f13f3cdf7')\"\n",
              "              title=\"Convert this dataframe to an interactive table.\"\n",
              "              style=\"display:none;\">\n",
              "        \n",
              "  <svg xmlns=\"http://www.w3.org/2000/svg\" height=\"24px\"viewBox=\"0 0 24 24\"\n",
              "       width=\"24px\">\n",
              "    <path d=\"M0 0h24v24H0V0z\" fill=\"none\"/>\n",
              "    <path d=\"M18.56 5.44l.94 2.06.94-2.06 2.06-.94-2.06-.94-.94-2.06-.94 2.06-2.06.94zm-11 1L8.5 8.5l.94-2.06 2.06-.94-2.06-.94L8.5 2.5l-.94 2.06-2.06.94zm10 10l.94 2.06.94-2.06 2.06-.94-2.06-.94-.94-2.06-.94 2.06-2.06.94z\"/><path d=\"M17.41 7.96l-1.37-1.37c-.4-.4-.92-.59-1.43-.59-.52 0-1.04.2-1.43.59L10.3 9.45l-7.72 7.72c-.78.78-.78 2.05 0 2.83L4 21.41c.39.39.9.59 1.41.59.51 0 1.02-.2 1.41-.59l7.78-7.78 2.81-2.81c.8-.78.8-2.07 0-2.86zM5.41 20L4 18.59l7.72-7.72 1.47 1.35L5.41 20z\"/>\n",
              "  </svg>\n",
              "      </button>\n",
              "      \n",
              "  <style>\n",
              "    .colab-df-container {\n",
              "      display:flex;\n",
              "      flex-wrap:wrap;\n",
              "      gap: 12px;\n",
              "    }\n",
              "\n",
              "    .colab-df-convert {\n",
              "      background-color: #E8F0FE;\n",
              "      border: none;\n",
              "      border-radius: 50%;\n",
              "      cursor: pointer;\n",
              "      display: none;\n",
              "      fill: #1967D2;\n",
              "      height: 32px;\n",
              "      padding: 0 0 0 0;\n",
              "      width: 32px;\n",
              "    }\n",
              "\n",
              "    .colab-df-convert:hover {\n",
              "      background-color: #E2EBFA;\n",
              "      box-shadow: 0px 1px 2px rgba(60, 64, 67, 0.3), 0px 1px 3px 1px rgba(60, 64, 67, 0.15);\n",
              "      fill: #174EA6;\n",
              "    }\n",
              "\n",
              "    [theme=dark] .colab-df-convert {\n",
              "      background-color: #3B4455;\n",
              "      fill: #D2E3FC;\n",
              "    }\n",
              "\n",
              "    [theme=dark] .colab-df-convert:hover {\n",
              "      background-color: #434B5C;\n",
              "      box-shadow: 0px 1px 3px 1px rgba(0, 0, 0, 0.15);\n",
              "      filter: drop-shadow(0px 1px 2px rgba(0, 0, 0, 0.3));\n",
              "      fill: #FFFFFF;\n",
              "    }\n",
              "  </style>\n",
              "\n",
              "      <script>\n",
              "        const buttonEl =\n",
              "          document.querySelector('#df-5c3ec0ce-ef5d-4103-b574-a70f13f3cdf7 button.colab-df-convert');\n",
              "        buttonEl.style.display =\n",
              "          google.colab.kernel.accessAllowed ? 'block' : 'none';\n",
              "\n",
              "        async function convertToInteractive(key) {\n",
              "          const element = document.querySelector('#df-5c3ec0ce-ef5d-4103-b574-a70f13f3cdf7');\n",
              "          const dataTable =\n",
              "            await google.colab.kernel.invokeFunction('convertToInteractive',\n",
              "                                                     [key], {});\n",
              "          if (!dataTable) return;\n",
              "\n",
              "          const docLinkHtml = 'Like what you see? Visit the ' +\n",
              "            '<a target=\"_blank\" href=https://colab.research.google.com/notebooks/data_table.ipynb>data table notebook</a>'\n",
              "            + ' to learn more about interactive tables.';\n",
              "          element.innerHTML = '';\n",
              "          dataTable['output_type'] = 'display_data';\n",
              "          await google.colab.output.renderOutput(dataTable, element);\n",
              "          const docLink = document.createElement('div');\n",
              "          docLink.innerHTML = docLinkHtml;\n",
              "          element.appendChild(docLink);\n",
              "        }\n",
              "      </script>\n",
              "    </div>\n",
              "  </div>\n",
              "  "
            ]
          },
          "metadata": {},
          "execution_count": 2
        }
      ]
    },
    {
      "cell_type": "code",
      "source": [
        "from google.colab import drive\n",
        "drive.mount('/content/drive')"
      ],
      "metadata": {
        "id": "wBH-6AnFp8DX",
        "colab": {
          "base_uri": "https://localhost:8080/"
        },
        "outputId": "7d2f204e-518d-4a57-8fa5-9e1e9a9931f1"
      },
      "execution_count": 3,
      "outputs": [
        {
          "output_type": "stream",
          "name": "stdout",
          "text": [
            "Mounted at /content/drive\n"
          ]
        }
      ]
    },
    {
      "cell_type": "markdown",
      "source": [
        "# New section"
      ],
      "metadata": {
        "id": "spXvYhPTqv9R"
      }
    },
    {
      "cell_type": "code",
      "metadata": {
        "id": "mMRUwqvwZQBB"
      },
      "source": [
        "col = ['no','nama','luas_lantai','lantai_tanah',\n",
        "       'dinding_bambu','tidak_punya_mck','tidak_punya_listrik',\n",
        "       'air_minum_sumur','kayu_bakar','daging_satu_seminggu',\n",
        "       'satu_baju_setahun','makan_satu_dua_sehari','tidak_sanggup_berobat',\n",
        "       'penghasilan_dibawah_600','kk_tidak_sekolah','tidak_punya_tabungan',\n",
        "       'lansia','disabilitas','usia_dini','ibu_hamil','anak_sd',\n",
        "       'anak_smp','anak_sma','not_set','label']"
      ],
      "execution_count": 4,
      "outputs": []
    },
    {
      "cell_type": "code",
      "metadata": {
        "id": "jWsq5huvbvhb",
        "colab": {
          "base_uri": "https://localhost:8080/",
          "height": 174
        },
        "outputId": "43a887c2-b16d-4ef8-f68f-5a5d1afc9394"
      },
      "source": [
        "arr = df.to_numpy()\n",
        "df = pd.DataFrame(arr, columns=col)\n",
        "df.head(1)"
      ],
      "execution_count": 5,
      "outputs": [
        {
          "output_type": "execute_result",
          "data": {
            "text/plain": [
              "    no      nama luas_lantai lantai_tanah dinding_bambu tidak_punya_mck  \\\n",
              "0  1.0  MARYANTO           1            1             0               1   \n",
              "\n",
              "  tidak_punya_listrik air_minum_sumur kayu_bakar daging_satu_seminggu  ...  \\\n",
              "0                   0               1          0                    1  ...   \n",
              "\n",
              "  tidak_punya_tabungan lansia disabilitas usia_dini ibu_hamil anak_sd  \\\n",
              "0                    1    0.0         0.0       0.0       0.0     1.0   \n",
              "\n",
              "  anak_smp anak_sma not_set label  \n",
              "0      0.0      0.0    12.0   BLT  \n",
              "\n",
              "[1 rows x 25 columns]"
            ],
            "text/html": [
              "\n",
              "  <div id=\"df-032ada7c-cb3f-46e8-932a-b6cc4b59f987\">\n",
              "    <div class=\"colab-df-container\">\n",
              "      <div>\n",
              "<style scoped>\n",
              "    .dataframe tbody tr th:only-of-type {\n",
              "        vertical-align: middle;\n",
              "    }\n",
              "\n",
              "    .dataframe tbody tr th {\n",
              "        vertical-align: top;\n",
              "    }\n",
              "\n",
              "    .dataframe thead th {\n",
              "        text-align: right;\n",
              "    }\n",
              "</style>\n",
              "<table border=\"1\" class=\"dataframe\">\n",
              "  <thead>\n",
              "    <tr style=\"text-align: right;\">\n",
              "      <th></th>\n",
              "      <th>no</th>\n",
              "      <th>nama</th>\n",
              "      <th>luas_lantai</th>\n",
              "      <th>lantai_tanah</th>\n",
              "      <th>dinding_bambu</th>\n",
              "      <th>tidak_punya_mck</th>\n",
              "      <th>tidak_punya_listrik</th>\n",
              "      <th>air_minum_sumur</th>\n",
              "      <th>kayu_bakar</th>\n",
              "      <th>daging_satu_seminggu</th>\n",
              "      <th>...</th>\n",
              "      <th>tidak_punya_tabungan</th>\n",
              "      <th>lansia</th>\n",
              "      <th>disabilitas</th>\n",
              "      <th>usia_dini</th>\n",
              "      <th>ibu_hamil</th>\n",
              "      <th>anak_sd</th>\n",
              "      <th>anak_smp</th>\n",
              "      <th>anak_sma</th>\n",
              "      <th>not_set</th>\n",
              "      <th>label</th>\n",
              "    </tr>\n",
              "  </thead>\n",
              "  <tbody>\n",
              "    <tr>\n",
              "      <th>0</th>\n",
              "      <td>1.0</td>\n",
              "      <td>MARYANTO</td>\n",
              "      <td>1</td>\n",
              "      <td>1</td>\n",
              "      <td>0</td>\n",
              "      <td>1</td>\n",
              "      <td>0</td>\n",
              "      <td>1</td>\n",
              "      <td>0</td>\n",
              "      <td>1</td>\n",
              "      <td>...</td>\n",
              "      <td>1</td>\n",
              "      <td>0.0</td>\n",
              "      <td>0.0</td>\n",
              "      <td>0.0</td>\n",
              "      <td>0.0</td>\n",
              "      <td>1.0</td>\n",
              "      <td>0.0</td>\n",
              "      <td>0.0</td>\n",
              "      <td>12.0</td>\n",
              "      <td>BLT</td>\n",
              "    </tr>\n",
              "  </tbody>\n",
              "</table>\n",
              "<p>1 rows × 25 columns</p>\n",
              "</div>\n",
              "      <button class=\"colab-df-convert\" onclick=\"convertToInteractive('df-032ada7c-cb3f-46e8-932a-b6cc4b59f987')\"\n",
              "              title=\"Convert this dataframe to an interactive table.\"\n",
              "              style=\"display:none;\">\n",
              "        \n",
              "  <svg xmlns=\"http://www.w3.org/2000/svg\" height=\"24px\"viewBox=\"0 0 24 24\"\n",
              "       width=\"24px\">\n",
              "    <path d=\"M0 0h24v24H0V0z\" fill=\"none\"/>\n",
              "    <path d=\"M18.56 5.44l.94 2.06.94-2.06 2.06-.94-2.06-.94-.94-2.06-.94 2.06-2.06.94zm-11 1L8.5 8.5l.94-2.06 2.06-.94-2.06-.94L8.5 2.5l-.94 2.06-2.06.94zm10 10l.94 2.06.94-2.06 2.06-.94-2.06-.94-.94-2.06-.94 2.06-2.06.94z\"/><path d=\"M17.41 7.96l-1.37-1.37c-.4-.4-.92-.59-1.43-.59-.52 0-1.04.2-1.43.59L10.3 9.45l-7.72 7.72c-.78.78-.78 2.05 0 2.83L4 21.41c.39.39.9.59 1.41.59.51 0 1.02-.2 1.41-.59l7.78-7.78 2.81-2.81c.8-.78.8-2.07 0-2.86zM5.41 20L4 18.59l7.72-7.72 1.47 1.35L5.41 20z\"/>\n",
              "  </svg>\n",
              "      </button>\n",
              "      \n",
              "  <style>\n",
              "    .colab-df-container {\n",
              "      display:flex;\n",
              "      flex-wrap:wrap;\n",
              "      gap: 12px;\n",
              "    }\n",
              "\n",
              "    .colab-df-convert {\n",
              "      background-color: #E8F0FE;\n",
              "      border: none;\n",
              "      border-radius: 50%;\n",
              "      cursor: pointer;\n",
              "      display: none;\n",
              "      fill: #1967D2;\n",
              "      height: 32px;\n",
              "      padding: 0 0 0 0;\n",
              "      width: 32px;\n",
              "    }\n",
              "\n",
              "    .colab-df-convert:hover {\n",
              "      background-color: #E2EBFA;\n",
              "      box-shadow: 0px 1px 2px rgba(60, 64, 67, 0.3), 0px 1px 3px 1px rgba(60, 64, 67, 0.15);\n",
              "      fill: #174EA6;\n",
              "    }\n",
              "\n",
              "    [theme=dark] .colab-df-convert {\n",
              "      background-color: #3B4455;\n",
              "      fill: #D2E3FC;\n",
              "    }\n",
              "\n",
              "    [theme=dark] .colab-df-convert:hover {\n",
              "      background-color: #434B5C;\n",
              "      box-shadow: 0px 1px 3px 1px rgba(0, 0, 0, 0.15);\n",
              "      filter: drop-shadow(0px 1px 2px rgba(0, 0, 0, 0.3));\n",
              "      fill: #FFFFFF;\n",
              "    }\n",
              "  </style>\n",
              "\n",
              "      <script>\n",
              "        const buttonEl =\n",
              "          document.querySelector('#df-032ada7c-cb3f-46e8-932a-b6cc4b59f987 button.colab-df-convert');\n",
              "        buttonEl.style.display =\n",
              "          google.colab.kernel.accessAllowed ? 'block' : 'none';\n",
              "\n",
              "        async function convertToInteractive(key) {\n",
              "          const element = document.querySelector('#df-032ada7c-cb3f-46e8-932a-b6cc4b59f987');\n",
              "          const dataTable =\n",
              "            await google.colab.kernel.invokeFunction('convertToInteractive',\n",
              "                                                     [key], {});\n",
              "          if (!dataTable) return;\n",
              "\n",
              "          const docLinkHtml = 'Like what you see? Visit the ' +\n",
              "            '<a target=\"_blank\" href=https://colab.research.google.com/notebooks/data_table.ipynb>data table notebook</a>'\n",
              "            + ' to learn more about interactive tables.';\n",
              "          element.innerHTML = '';\n",
              "          dataTable['output_type'] = 'display_data';\n",
              "          await google.colab.output.renderOutput(dataTable, element);\n",
              "          const docLink = document.createElement('div');\n",
              "          docLink.innerHTML = docLinkHtml;\n",
              "          element.appendChild(docLink);\n",
              "        }\n",
              "      </script>\n",
              "    </div>\n",
              "  </div>\n",
              "  "
            ]
          },
          "metadata": {},
          "execution_count": 5
        }
      ]
    },
    {
      "cell_type": "code",
      "metadata": {
        "id": "alH8zZIZwZfY"
      },
      "source": [
        "df.to_excel('dataready.xlsx')"
      ],
      "execution_count": 6,
      "outputs": []
    },
    {
      "cell_type": "code",
      "metadata": {
        "id": "2dNgulAUXH5w",
        "colab": {
          "base_uri": "https://localhost:8080/"
        },
        "outputId": "ed09ebec-1b51-45d3-a349-b1b84780e81b"
      },
      "source": [
        "df.info()"
      ],
      "execution_count": 7,
      "outputs": [
        {
          "output_type": "stream",
          "name": "stdout",
          "text": [
            "<class 'pandas.core.frame.DataFrame'>\n",
            "RangeIndex: 375 entries, 0 to 374\n",
            "Data columns (total 25 columns):\n",
            " #   Column                   Non-Null Count  Dtype \n",
            "---  ------                   --------------  ----- \n",
            " 0   no                       375 non-null    object\n",
            " 1   nama                     375 non-null    object\n",
            " 2   luas_lantai              375 non-null    object\n",
            " 3   lantai_tanah             375 non-null    object\n",
            " 4   dinding_bambu            375 non-null    object\n",
            " 5   tidak_punya_mck          375 non-null    object\n",
            " 6   tidak_punya_listrik      375 non-null    object\n",
            " 7   air_minum_sumur          375 non-null    object\n",
            " 8   kayu_bakar               375 non-null    object\n",
            " 9   daging_satu_seminggu     375 non-null    object\n",
            " 10  satu_baju_setahun        375 non-null    object\n",
            " 11  makan_satu_dua_sehari    375 non-null    object\n",
            " 12  tidak_sanggup_berobat    375 non-null    object\n",
            " 13  penghasilan_dibawah_600  375 non-null    object\n",
            " 14  kk_tidak_sekolah         375 non-null    object\n",
            " 15  tidak_punya_tabungan     375 non-null    object\n",
            " 16  lansia                   375 non-null    object\n",
            " 17  disabilitas              375 non-null    object\n",
            " 18  usia_dini                375 non-null    object\n",
            " 19  ibu_hamil                375 non-null    object\n",
            " 20  anak_sd                  375 non-null    object\n",
            " 21  anak_smp                 375 non-null    object\n",
            " 22  anak_sma                 375 non-null    object\n",
            " 23  not_set                  375 non-null    object\n",
            " 24  label                    375 non-null    object\n",
            "dtypes: object(25)\n",
            "memory usage: 73.4+ KB\n"
          ]
        }
      ]
    },
    {
      "cell_type": "code",
      "metadata": {
        "id": "3YV7rhtHeoE-",
        "colab": {
          "base_uri": "https://localhost:8080/"
        },
        "outputId": "303447b7-7b85-447b-c904-fbe9546542e5"
      },
      "source": [
        "df.isnull().sum()"
      ],
      "execution_count": 8,
      "outputs": [
        {
          "output_type": "execute_result",
          "data": {
            "text/plain": [
              "no                         0\n",
              "nama                       0\n",
              "luas_lantai                0\n",
              "lantai_tanah               0\n",
              "dinding_bambu              0\n",
              "tidak_punya_mck            0\n",
              "tidak_punya_listrik        0\n",
              "air_minum_sumur            0\n",
              "kayu_bakar                 0\n",
              "daging_satu_seminggu       0\n",
              "satu_baju_setahun          0\n",
              "makan_satu_dua_sehari      0\n",
              "tidak_sanggup_berobat      0\n",
              "penghasilan_dibawah_600    0\n",
              "kk_tidak_sekolah           0\n",
              "tidak_punya_tabungan       0\n",
              "lansia                     0\n",
              "disabilitas                0\n",
              "usia_dini                  0\n",
              "ibu_hamil                  0\n",
              "anak_sd                    0\n",
              "anak_smp                   0\n",
              "anak_sma                   0\n",
              "not_set                    0\n",
              "label                      0\n",
              "dtype: int64"
            ]
          },
          "metadata": {},
          "execution_count": 8
        }
      ]
    },
    {
      "cell_type": "code",
      "metadata": {
        "id": "jNJe12b_ey8k"
      },
      "source": [
        "df['anak_sma'].replace('', np.nan, inplace=True)\n",
        "df.dropna(subset=['anak_sma'], inplace=True)"
      ],
      "execution_count": 9,
      "outputs": []
    },
    {
      "cell_type": "code",
      "metadata": {
        "id": "GziTNYx5cpOx",
        "colab": {
          "base_uri": "https://localhost:8080/"
        },
        "outputId": "ca867f39-b408-4ed3-eb03-f8e1702235d7"
      },
      "source": [
        "cek = df[\"label\"].value_counts()\n",
        "cek"
      ],
      "execution_count": 10,
      "outputs": [
        {
          "output_type": "execute_result",
          "data": {
            "text/plain": [
              "BLT      135\n",
              "TIDAK    134\n",
              "PKH      106\n",
              "Name: label, dtype: int64"
            ]
          },
          "metadata": {},
          "execution_count": 10
        }
      ]
    },
    {
      "cell_type": "code",
      "metadata": {
        "id": "3vIgX1MvdVgr",
        "colab": {
          "base_uri": "https://localhost:8080/",
          "height": 174
        },
        "outputId": "eded8441-a370-4e5c-fbf0-a7f43a6def25"
      },
      "source": [
        "label_encoder = preprocessing.LabelEncoder()\n",
        "df['label_enc']= label_encoder.fit_transform(df['label'])\n",
        "df.head(1)"
      ],
      "execution_count": 11,
      "outputs": [
        {
          "output_type": "execute_result",
          "data": {
            "text/plain": [
              "    no      nama luas_lantai lantai_tanah dinding_bambu tidak_punya_mck  \\\n",
              "0  1.0  MARYANTO           1            1             0               1   \n",
              "\n",
              "  tidak_punya_listrik air_minum_sumur kayu_bakar daging_satu_seminggu  ...  \\\n",
              "0                   0               1          0                    1  ...   \n",
              "\n",
              "  lansia disabilitas usia_dini ibu_hamil anak_sd anak_smp anak_sma not_set  \\\n",
              "0    0.0         0.0       0.0       0.0     1.0      0.0      0.0    12.0   \n",
              "\n",
              "  label label_enc  \n",
              "0   BLT         0  \n",
              "\n",
              "[1 rows x 26 columns]"
            ],
            "text/html": [
              "\n",
              "  <div id=\"df-48d10ee9-2e97-4513-ba76-b71f91f08ced\">\n",
              "    <div class=\"colab-df-container\">\n",
              "      <div>\n",
              "<style scoped>\n",
              "    .dataframe tbody tr th:only-of-type {\n",
              "        vertical-align: middle;\n",
              "    }\n",
              "\n",
              "    .dataframe tbody tr th {\n",
              "        vertical-align: top;\n",
              "    }\n",
              "\n",
              "    .dataframe thead th {\n",
              "        text-align: right;\n",
              "    }\n",
              "</style>\n",
              "<table border=\"1\" class=\"dataframe\">\n",
              "  <thead>\n",
              "    <tr style=\"text-align: right;\">\n",
              "      <th></th>\n",
              "      <th>no</th>\n",
              "      <th>nama</th>\n",
              "      <th>luas_lantai</th>\n",
              "      <th>lantai_tanah</th>\n",
              "      <th>dinding_bambu</th>\n",
              "      <th>tidak_punya_mck</th>\n",
              "      <th>tidak_punya_listrik</th>\n",
              "      <th>air_minum_sumur</th>\n",
              "      <th>kayu_bakar</th>\n",
              "      <th>daging_satu_seminggu</th>\n",
              "      <th>...</th>\n",
              "      <th>lansia</th>\n",
              "      <th>disabilitas</th>\n",
              "      <th>usia_dini</th>\n",
              "      <th>ibu_hamil</th>\n",
              "      <th>anak_sd</th>\n",
              "      <th>anak_smp</th>\n",
              "      <th>anak_sma</th>\n",
              "      <th>not_set</th>\n",
              "      <th>label</th>\n",
              "      <th>label_enc</th>\n",
              "    </tr>\n",
              "  </thead>\n",
              "  <tbody>\n",
              "    <tr>\n",
              "      <th>0</th>\n",
              "      <td>1.0</td>\n",
              "      <td>MARYANTO</td>\n",
              "      <td>1</td>\n",
              "      <td>1</td>\n",
              "      <td>0</td>\n",
              "      <td>1</td>\n",
              "      <td>0</td>\n",
              "      <td>1</td>\n",
              "      <td>0</td>\n",
              "      <td>1</td>\n",
              "      <td>...</td>\n",
              "      <td>0.0</td>\n",
              "      <td>0.0</td>\n",
              "      <td>0.0</td>\n",
              "      <td>0.0</td>\n",
              "      <td>1.0</td>\n",
              "      <td>0.0</td>\n",
              "      <td>0.0</td>\n",
              "      <td>12.0</td>\n",
              "      <td>BLT</td>\n",
              "      <td>0</td>\n",
              "    </tr>\n",
              "  </tbody>\n",
              "</table>\n",
              "<p>1 rows × 26 columns</p>\n",
              "</div>\n",
              "      <button class=\"colab-df-convert\" onclick=\"convertToInteractive('df-48d10ee9-2e97-4513-ba76-b71f91f08ced')\"\n",
              "              title=\"Convert this dataframe to an interactive table.\"\n",
              "              style=\"display:none;\">\n",
              "        \n",
              "  <svg xmlns=\"http://www.w3.org/2000/svg\" height=\"24px\"viewBox=\"0 0 24 24\"\n",
              "       width=\"24px\">\n",
              "    <path d=\"M0 0h24v24H0V0z\" fill=\"none\"/>\n",
              "    <path d=\"M18.56 5.44l.94 2.06.94-2.06 2.06-.94-2.06-.94-.94-2.06-.94 2.06-2.06.94zm-11 1L8.5 8.5l.94-2.06 2.06-.94-2.06-.94L8.5 2.5l-.94 2.06-2.06.94zm10 10l.94 2.06.94-2.06 2.06-.94-2.06-.94-.94-2.06-.94 2.06-2.06.94z\"/><path d=\"M17.41 7.96l-1.37-1.37c-.4-.4-.92-.59-1.43-.59-.52 0-1.04.2-1.43.59L10.3 9.45l-7.72 7.72c-.78.78-.78 2.05 0 2.83L4 21.41c.39.39.9.59 1.41.59.51 0 1.02-.2 1.41-.59l7.78-7.78 2.81-2.81c.8-.78.8-2.07 0-2.86zM5.41 20L4 18.59l7.72-7.72 1.47 1.35L5.41 20z\"/>\n",
              "  </svg>\n",
              "      </button>\n",
              "      \n",
              "  <style>\n",
              "    .colab-df-container {\n",
              "      display:flex;\n",
              "      flex-wrap:wrap;\n",
              "      gap: 12px;\n",
              "    }\n",
              "\n",
              "    .colab-df-convert {\n",
              "      background-color: #E8F0FE;\n",
              "      border: none;\n",
              "      border-radius: 50%;\n",
              "      cursor: pointer;\n",
              "      display: none;\n",
              "      fill: #1967D2;\n",
              "      height: 32px;\n",
              "      padding: 0 0 0 0;\n",
              "      width: 32px;\n",
              "    }\n",
              "\n",
              "    .colab-df-convert:hover {\n",
              "      background-color: #E2EBFA;\n",
              "      box-shadow: 0px 1px 2px rgba(60, 64, 67, 0.3), 0px 1px 3px 1px rgba(60, 64, 67, 0.15);\n",
              "      fill: #174EA6;\n",
              "    }\n",
              "\n",
              "    [theme=dark] .colab-df-convert {\n",
              "      background-color: #3B4455;\n",
              "      fill: #D2E3FC;\n",
              "    }\n",
              "\n",
              "    [theme=dark] .colab-df-convert:hover {\n",
              "      background-color: #434B5C;\n",
              "      box-shadow: 0px 1px 3px 1px rgba(0, 0, 0, 0.15);\n",
              "      filter: drop-shadow(0px 1px 2px rgba(0, 0, 0, 0.3));\n",
              "      fill: #FFFFFF;\n",
              "    }\n",
              "  </style>\n",
              "\n",
              "      <script>\n",
              "        const buttonEl =\n",
              "          document.querySelector('#df-48d10ee9-2e97-4513-ba76-b71f91f08ced button.colab-df-convert');\n",
              "        buttonEl.style.display =\n",
              "          google.colab.kernel.accessAllowed ? 'block' : 'none';\n",
              "\n",
              "        async function convertToInteractive(key) {\n",
              "          const element = document.querySelector('#df-48d10ee9-2e97-4513-ba76-b71f91f08ced');\n",
              "          const dataTable =\n",
              "            await google.colab.kernel.invokeFunction('convertToInteractive',\n",
              "                                                     [key], {});\n",
              "          if (!dataTable) return;\n",
              "\n",
              "          const docLinkHtml = 'Like what you see? Visit the ' +\n",
              "            '<a target=\"_blank\" href=https://colab.research.google.com/notebooks/data_table.ipynb>data table notebook</a>'\n",
              "            + ' to learn more about interactive tables.';\n",
              "          element.innerHTML = '';\n",
              "          dataTable['output_type'] = 'display_data';\n",
              "          await google.colab.output.renderOutput(dataTable, element);\n",
              "          const docLink = document.createElement('div');\n",
              "          docLink.innerHTML = docLinkHtml;\n",
              "          element.appendChild(docLink);\n",
              "        }\n",
              "      </script>\n",
              "    </div>\n",
              "  </div>\n",
              "  "
            ]
          },
          "metadata": {},
          "execution_count": 11
        }
      ]
    },
    {
      "cell_type": "code",
      "metadata": {
        "id": "K5eGlBgodP9Y",
        "colab": {
          "base_uri": "https://localhost:8080/"
        },
        "outputId": "8fe452a6-0d5f-4ccd-db42-f283d5ee2f56"
      },
      "source": [
        "print(df['label'].unique())\n",
        "print(df['label_enc'].unique())"
      ],
      "execution_count": 12,
      "outputs": [
        {
          "output_type": "stream",
          "name": "stdout",
          "text": [
            "['BLT' 'PKH' 'TIDAK']\n",
            "[0 1 2]\n"
          ]
        }
      ]
    },
    {
      "cell_type": "code",
      "metadata": {
        "id": "7UAjUrb0ddnb"
      },
      "source": [
        "X = df.loc[:,'luas_lantai':'anak_sma']\n",
        "y = df['label']"
      ],
      "execution_count": 13,
      "outputs": []
    },
    {
      "cell_type": "code",
      "metadata": {
        "id": "ln2M_cR0eVLS"
      },
      "source": [
        "X_train, X_test, y_train, y_test = train_test_split(X, y, test_size=0.2,random_state=0)"
      ],
      "execution_count": 14,
      "outputs": []
    },
    {
      "cell_type": "code",
      "metadata": {
        "id": "6FhXk0SoG-d5",
        "colab": {
          "base_uri": "https://localhost:8080/"
        },
        "outputId": "b0bd3a20-2094-43c7-c6d0-3789d48f8a1f"
      },
      "source": [
        "len(y_test)"
      ],
      "execution_count": 15,
      "outputs": [
        {
          "output_type": "execute_result",
          "data": {
            "text/plain": [
              "75"
            ]
          },
          "metadata": {},
          "execution_count": 15
        }
      ]
    },
    {
      "cell_type": "code",
      "metadata": {
        "id": "eP9GfsemeYl-",
        "colab": {
          "base_uri": "https://localhost:8080/"
        },
        "outputId": "58d43005-e9b7-4123-f8a9-cbba6f46ca39"
      },
      "source": [
        "model = DecisionTreeClassifier()\n",
        "model = model.fit(X_train, y_train)\n",
        "y_pred = model.predict(X_test)\n",
        "print(\"Accuracy:\",metrics.accuracy_score(y_test, y_pred))"
      ],
      "execution_count": 16,
      "outputs": [
        {
          "output_type": "stream",
          "name": "stdout",
          "text": [
            "Accuracy: 0.9466666666666667\n"
          ]
        }
      ]
    },
    {
      "cell_type": "code",
      "metadata": {
        "id": "2cr4H4yan5DO"
      },
      "source": [
        "#Confusion Matrix\n",
        "def print_conf(y_test, result, classes, title='Confusion matrix'):\n",
        "  conf_matrix = metrics.confusion_matrix(y_test, result)\n",
        "  plt.figure(figsize=(6,6))\n",
        "  sns.heatmap(conf_matrix, \n",
        "              annot=True,\n",
        "              xticklabels=classes, \n",
        "              yticklabels=classes,\n",
        "              cmap=\"Pastel1\",\n",
        "              fmt='d')\n",
        "  plt.ylabel('Actual')\n",
        "  plt.xlabel('Predicted')\n",
        "  plt.title(title)\n",
        "  plt.show()"
      ],
      "execution_count": 17,
      "outputs": []
    },
    {
      "cell_type": "code",
      "metadata": {
        "id": "zYytKnQIoG8G",
        "colab": {
          "base_uri": "https://localhost:8080/",
          "height": 404
        },
        "outputId": "8a1b7dec-7513-4a71-8a45-32b19d30f2da"
      },
      "source": [
        "print_conf(y_test, y_pred, ['BLT', 'PKH', 'TIDAK'], title=\"Confusion matrix LSTM\")"
      ],
      "execution_count": 18,
      "outputs": [
        {
          "output_type": "display_data",
          "data": {
            "text/plain": [
              "<Figure size 432x432 with 2 Axes>"
            ],
            "image/png": "[encoded data removed]"
          },
          "metadata": {
            "needs_background": "light"
          }
        }
      ]
    },
    {
      "cell_type": "code",
      "metadata": {
        "id": "8vL9p4XGvnZr",
        "colab": {
          "base_uri": "https://localhost:8080/"
        },
        "outputId": "558d571c-a0f3-471d-acf8-56514c9b133e"
      },
      "source": [
        "cross_val_score(model, X, y, cv=10)"
      ],
      "execution_count": 19,
      "outputs": [
        {
          "output_type": "execute_result",
          "data": {
            "text/plain": [
              "array([0.86842105, 0.89473684, 0.92105263, 1.        , 1.        ,\n",
              "       1.        , 1.        , 0.97297297, 0.97297297, 1.        ])"
            ]
          },
          "metadata": {},
          "execution_count": 19
        }
      ]
    },
    {
      "cell_type": "code",
      "metadata": {
        "id": "dEzpBx1nnjc2",
        "colab": {
          "base_uri": "https://localhost:8080/"
        },
        "outputId": "de389a89-d1ef-4666-c2ab-95629e4eb23d"
      },
      "source": [
        "print(classification_report(y_test,y_pred))"
      ],
      "execution_count": 20,
      "outputs": [
        {
          "output_type": "stream",
          "name": "stdout",
          "text": [
            "              precision    recall  f1-score   support\n",
            "\n",
            "         BLT       0.90      0.96      0.93        28\n",
            "         PKH       0.95      0.86      0.90        21\n",
            "       TIDAK       1.00      1.00      1.00        26\n",
            "\n",
            "    accuracy                           0.95        75\n",
            "   macro avg       0.95      0.94      0.94        75\n",
            "weighted avg       0.95      0.95      0.95        75\n",
            "\n"
          ]
        }
      ]
    },
    {
      "cell_type": "code",
      "metadata": {
        "id": "ZqhTPSinr63s"
      },
      "source": [
        "from sklearn.tree import export_graphviz\n",
        "export_graphviz(\n",
        "    model,\n",
        "    out_file = \"tree.dot\",\n",
        "    feature_names = col[2:23],\n",
        "    class_names = ['BLT', 'TIDAK', 'PKH' ],\n",
        "    rounded= True,\n",
        "    filled =True,\n",
        "    special_characters=True\n",
        ")"
      ],
      "execution_count": 21,
      "outputs": []
    },
    {
      "cell_type": "code",
      "metadata": {
        "id": "28TzW_JNsuMK"
      },
      "source": [
        "check_call(['dot','-Tpng','tree.dot','-o','tree.png'])\n",
        "tree_image = cv2.imread('tree.png')\n",
        "cv2_imshow(tree_image)"
      ],
      "execution_count": null,
      "outputs": []
    },
    {
      "cell_type": "code",
      "source": [
        "from sklearn.tree import export_text\n",
        "print(export_text(model, feature_names=col[2:23]))"
      ],
      "metadata": {
        "id": "gy-dqP91XFwi"
      },
      "execution_count": null,
      "outputs": []
    },
    {
      "cell_type": "code",
      "metadata": {
        "id": "mO2LL-ngzC59"
      },
      "source": [
        "ccp_alphas, impurities = model.cost_complexity_pruning_path(X,y)"
      ],
      "execution_count": null,
      "outputs": []
    },
    {
      "cell_type": "code",
      "source": [
        "col"
      ],
      "metadata": {
        "id": "LDRPFGYhVeoX"
      },
      "execution_count": null,
      "outputs": []
    },
    {
      "cell_type": "code",
      "source": [
        "luas_lantai = 1\n",
        "lantai_tanah = 1\n",
        "dinding_bambu = 1\n",
        "tidak_punya_mck = 1\n",
        "tidak_punya_listrik = 1\n",
        "air_minum_sumur = 1\n",
        "kayu_bakar = 1\n",
        "daging_satu_seminggu = 1\n",
        "satu_baju_setahun = 1\n",
        "makan_satu_dua_sehari = 0\n",
        "tidak_sanggup_berobat = 0\n",
        "penghasilan_dibawah_600 = 0\n",
        "kk_tidak_sekolah = 0\n",
        "tidak_punya_tabungan = 0\n",
        "lansia = 0\n",
        "disabilitas = 0\n",
        "usia_dini = 0\n",
        "ibu_hamil = 0 \n",
        "anak_sd = 0\n",
        "anak_smp = 0\n",
        "anak_sma = 0"
      ],
      "metadata": {
        "id": "JfWKgdI-VnHd"
      },
      "execution_count": null,
      "outputs": []
    },
    {
      "cell_type": "code",
      "metadata": {
        "id": "W-xHokFZ8Dxj"
      },
      "source": [
        "data = [\n",
        "        luas_lantai,\n",
        "        lantai_tanah,\n",
        "        dinding_bambu,\n",
        "        tidak_punya_mck,\n",
        "        tidak_punya_listrik,\n",
        "        air_minum_sumur,\n",
        "        kayu_bakar,\n",
        "        daging_satu_seminggu,\n",
        "        satu_baju_setahun,\n",
        "        makan_satu_dua_sehari,\n",
        "        tidak_sanggup_berobat,\n",
        "        penghasilan_dibawah_600,\n",
        "        kk_tidak_sekolah,\n",
        "        tidak_punya_tabungan,\n",
        "        lansia,\n",
        "        disabilitas,\n",
        "        usia_dini,\n",
        "        ibu_hamil,\n",
        "        anak_sd,\n",
        "        anak_smp,\n",
        "        anak_sma,\n",
        "        ]"
      ],
      "execution_count": null,
      "outputs": []
    },
    {
      "cell_type": "code",
      "metadata": {
        "id": "z3Z8lBx08ec3"
      },
      "source": [
        "model.predict([data])"
      ],
      "execution_count": null,
      "outputs": []
    }
  ]
}